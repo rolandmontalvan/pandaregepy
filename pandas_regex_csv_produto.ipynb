{
 "cells": [
  {
   "cell_type": "code",
   "execution_count": 1,
   "id": "increasing-miami",
   "metadata": {},
   "outputs": [],
   "source": [
    "import pandas as pd\n",
    "import re"
   ]
  },
  {
   "cell_type": "code",
   "execution_count": 2,
   "id": "cognitive-peripheral",
   "metadata": {},
   "outputs": [],
   "source": [
    "data = pd.read_csv('./assets/dados.csv')\n",
    "# exibe os dados carregados em data\n",
    "#data"
   ]
  },
  {
   "cell_type": "code",
   "execution_count": 3,
   "id": "amber-vegetarian",
   "metadata": {},
   "outputs": [
    {
     "name": "stdout",
     "output_type": "stream",
     "text": [
      "Eram  5005  palavras\n",
      "Após filtragem retirar os duplicados ficaram apenas  1031\n"
     ]
    }
   ],
   "source": [
    "#transforma a tabela data em uma lista com itens em upper case, entre aspas simples separdos por vírgula\n",
    "array_produtc = data.values.tolist()\n",
    "result_final = []  \n",
    "for i in range(len(array_produtc)):\n",
    "    array_clear = array_produtc[i][0].split(\";\")\n",
    "    aray_clear = array_clear[1:len(array_clear)]\n",
    "    for element in aray_clear:\n",
    "        result_final.append(element)\n",
    "        \n",
    "#exibe a lista criada anteriormente \n",
    "#print(result_final)\n",
    "\n",
    "#função para remover itnes repetidos da lista criada anteriormente\n",
    "def remove_repetidos(lista):\n",
    "    lista_unicos = []\n",
    "    for numero in lista:\n",
    "        if(numero in lista_unicos): #Verifica se o atual elemento existe na lista original\n",
    "            pass #Se existir não faz nada\n",
    "        else:\n",
    "            lista_unicos.append(numero) #Se não existir, adiciona com o comando append() o numero na lista\n",
    "    return lista_unicos\n",
    "#Exibe a quantidade de itens na lista de busca, com itens duplicados\n",
    "print(\"Eram \",len(result_final), \" palavras\")\n",
    "\n",
    "# Ordena a lista\n",
    "result_final = sorted(remove_repetidos(result_final))\n",
    "\n",
    "#Exibe a quantidade de itens na lista de busca, após retirar itens duplicados\n",
    "print(\"Após filtragem retirar os duplicados ficaram apenas \", len(result_final)), \"palavras\"\n",
    "\n",
    "#transforma os itens da lista em minúsculos\n",
    "result_final=[x.lower() for x in result_final]\n",
    "\n",
    "#print(result_final)\n"
   ]
  },
  {
   "cell_type": "code",
   "execution_count": 80,
   "id": "happy-defeat",
   "metadata": {},
   "outputs": [],
   "source": [
    "#função que compara as palavras da frase de entrada com as palavras da lista gerada a partir do arquivo CSV\n",
    "def word_search(word, texto):   \n",
    "    text = word\n",
    "    for pattern in result_final:\n",
    "        if re.search(text, pattern) and re.search('\\w{3,}', text):\n",
    "            texto = re.sub(text,'product',texto)\n",
    "    return texto\n",
    "\n",
    "#função que separa o texto de input em palavras de busca\n",
    "def split_phrase(texto):\n",
    "    text=texto.lower()\n",
    "    #retirando parênteses caso existam\n",
    "    reg='([()])'\n",
    "    text=re.sub(reg,'',text)\n",
    "    #criando um objeto regex para separar as palavras de uma frase em dois grupos, \n",
    "    # as palavras ficam dentro do segundo grupo acessado através do do match.group(2) dentro do for\n",
    "    regex = re.compile('\\[(.*?)\\]|(\\S+)')\n",
    "    #aplicando a regex no texto e separando as palavras\n",
    "    matches = regex.finditer(text)\n",
    "    print('INPUT:'+texto)\n",
    "    return_text=texto\n",
    "    for pattern in result_final:\n",
    "        for match in matches:\n",
    "            return_text = word_search(match.group(2), return_text)\n",
    "    return return_text"
   ]
  },
  {
   "cell_type": "code",
   "execution_count": 81,
   "id": "miniature-inflation",
   "metadata": {},
   "outputs": [
    {
     "name": "stdout",
     "output_type": "stream",
     "text": [
      "INPUT:im look for this inspiron (because i want buy this inspiron)\n"
     ]
    },
    {
     "data": {
      "text/plain": [
       "'im look for this product (because i want buy this product)'"
      ]
     },
     "execution_count": 81,
     "metadata": {},
     "output_type": "execute_result"
    }
   ],
   "source": [
    "split_phrase(\"im look for this inspiron (because i want buy this inspiron)\")"
   ]
  },
  {
   "cell_type": "code",
   "execution_count": null,
   "id": "warming-wrong",
   "metadata": {},
   "outputs": [],
   "source": []
  },
  {
   "cell_type": "code",
   "execution_count": null,
   "id": "regular-defeat",
   "metadata": {},
   "outputs": [],
   "source": []
  }
 ],
 "metadata": {
  "kernelspec": {
   "display_name": "Python 3",
   "language": "python",
   "name": "python3"
  },
  "language_info": {
   "codemirror_mode": {
    "name": "ipython",
    "version": 3
   },
   "file_extension": ".py",
   "mimetype": "text/x-python",
   "name": "python",
   "nbconvert_exporter": "python",
   "pygments_lexer": "ipython3",
   "version": "3.8.5"
  }
 },
 "nbformat": 4,
 "nbformat_minor": 5
}
