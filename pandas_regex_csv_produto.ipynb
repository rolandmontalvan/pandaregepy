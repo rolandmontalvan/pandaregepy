{
 "cells": [
  {
   "cell_type": "code",
   "execution_count": 1,
   "id": "increasing-miami",
   "metadata": {},
   "outputs": [],
   "source": [
    "import pandas as pd\n",
    "import re"
   ]
  },
  {
   "cell_type": "code",
   "execution_count": 2,
   "id": "cognitive-peripheral",
   "metadata": {},
   "outputs": [
    {
     "data": {
      "text/html": [
       "<div>\n",
       "<style scoped>\n",
       "    .dataframe tbody tr th:only-of-type {\n",
       "        vertical-align: middle;\n",
       "    }\n",
       "\n",
       "    .dataframe tbody tr th {\n",
       "        vertical-align: top;\n",
       "    }\n",
       "\n",
       "    .dataframe thead th {\n",
       "        text-align: right;\n",
       "    }\n",
       "</style>\n",
       "<table border=\"1\" class=\"dataframe\">\n",
       "  <thead>\n",
       "    <tr style=\"text-align: right;\">\n",
       "      <th></th>\n",
       "      <th>1;Vos DT;VOSTRO DESKTOPS;BLACK BULLET ST;VOSTRO DESKTOPS;VOSTRO 201</th>\n",
       "    </tr>\n",
       "  </thead>\n",
       "  <tbody>\n",
       "    <tr>\n",
       "      <th>0</th>\n",
       "      <td>2;Inspiron NTB;INSPIRON NOTEBOOKS;NOTEBOOK;INS...</td>\n",
       "    </tr>\n",
       "    <tr>\n",
       "      <th>1</th>\n",
       "      <td>3;Inspiron NTB;INSPIRON NOTEBOOKS;NONE;INSPIRO...</td>\n",
       "    </tr>\n",
       "    <tr>\n",
       "      <th>2</th>\n",
       "      <td>4;Inspiron NTB;INSPIRON NOTEBOOKS;MT;INSPIRON ...</td>\n",
       "    </tr>\n",
       "    <tr>\n",
       "      <th>3</th>\n",
       "      <td>5;Inspiron DT;INSPIRON DESKTOPS;MT;INSPIRON DE...</td>\n",
       "    </tr>\n",
       "    <tr>\n",
       "      <th>4</th>\n",
       "      <td>6;Inspiron NTB;INSPIRON NOTEBOOKS;NOTEBOOK;INS...</td>\n",
       "    </tr>\n",
       "    <tr>\n",
       "      <th>...</th>\n",
       "      <td>...</td>\n",
       "    </tr>\n",
       "    <tr>\n",
       "      <th>996</th>\n",
       "      <td>998;Inspiron NTB;INSPIRON NOTEBOOKS;NOTEBOOK;I...</td>\n",
       "    </tr>\n",
       "    <tr>\n",
       "      <th>997</th>\n",
       "      <td>999;Vos DT;VOSTRO DESKTOPS;MT;VOSTRO DESKTOPS;...</td>\n",
       "    </tr>\n",
       "    <tr>\n",
       "      <th>998</th>\n",
       "      <td>1000;Inspiron NTB;INSPIRON NOTEBOOKS;NOTEBOOK;...</td>\n",
       "    </tr>\n",
       "    <tr>\n",
       "      <th>999</th>\n",
       "      <td>1001;Inspiron NTB;INSPIRON NOTEBOOKS;NOTEBOOK;...</td>\n",
       "    </tr>\n",
       "    <tr>\n",
       "      <th>1000</th>\n",
       "      <td>1002;XPS DT;XPS DESKTOPS;PHOBOS;XPS DESKTOPS;A...</td>\n",
       "    </tr>\n",
       "  </tbody>\n",
       "</table>\n",
       "<p>1001 rows × 1 columns</p>\n",
       "</div>"
      ],
      "text/plain": [
       "     1;Vos DT;VOSTRO DESKTOPS;BLACK BULLET ST;VOSTRO DESKTOPS;VOSTRO 201\n",
       "0     2;Inspiron NTB;INSPIRON NOTEBOOKS;NOTEBOOK;INS...                 \n",
       "1     3;Inspiron NTB;INSPIRON NOTEBOOKS;NONE;INSPIRO...                 \n",
       "2     4;Inspiron NTB;INSPIRON NOTEBOOKS;MT;INSPIRON ...                 \n",
       "3     5;Inspiron DT;INSPIRON DESKTOPS;MT;INSPIRON DE...                 \n",
       "4     6;Inspiron NTB;INSPIRON NOTEBOOKS;NOTEBOOK;INS...                 \n",
       "...                                                 ...                 \n",
       "996   998;Inspiron NTB;INSPIRON NOTEBOOKS;NOTEBOOK;I...                 \n",
       "997   999;Vos DT;VOSTRO DESKTOPS;MT;VOSTRO DESKTOPS;...                 \n",
       "998   1000;Inspiron NTB;INSPIRON NOTEBOOKS;NOTEBOOK;...                 \n",
       "999   1001;Inspiron NTB;INSPIRON NOTEBOOKS;NOTEBOOK;...                 \n",
       "1000  1002;XPS DT;XPS DESKTOPS;PHOBOS;XPS DESKTOPS;A...                 \n",
       "\n",
       "[1001 rows x 1 columns]"
      ]
     },
     "execution_count": 2,
     "metadata": {},
     "output_type": "execute_result"
    }
   ],
   "source": [
    "data = pd.read_csv('./assets/dados.csv')\n",
    "# exibe os dados carregados em data\n",
    "data"
   ]
  },
  {
   "cell_type": "code",
   "execution_count": 3,
   "id": "amber-vegetarian",
   "metadata": {},
   "outputs": [
    {
     "name": "stdout",
     "output_type": "stream",
     "text": [
      "5005\n",
      "1031\n",
      "['adamo 13', 'adamo 9', 'aio dt19', 'aio mt24', 'aio mtg20', 'alienware 13', 'alienware 13 r2', 'alienware 13 r3', 'alienware 14', 'alienware 15', 'alienware 15 r2', 'alienware 15 r3', 'alienware 15 r4', 'alienware 17', 'alienware 17 51mr2', 'alienware 17 r2', 'alienware 17 r3', 'alienware 17 r4', 'alienware 17 r5', 'alienware 18', 'alienware area 51', 'alienware area-51m', 'alienware area51', 'alienware aurora', 'alienware aurora r11', 'alienware aurora r12', 'alienware aurora r13', 'alienware aurora r5', 'alienware aurora r6', 'alienware aurora r7', 'alienware aurora r8', 'alienware aurora r9', 'alienware aurora ryzen', 'alienware aurora ryzen a13', 'alienware aurora ryzen r10', 'alienware aurora1', 'alienware desktops', 'alienware m11x', 'alienware m14x', 'alienware m14xr2', 'alienware m15', 'alienware m15 a5', 'alienware m15 r2', 'alienware m15 r3', 'alienware m15 r4', 'alienware m15 r5', 'alienware m15x', 'alienware m17', 'alienware m17 r2', 'alienware m17 r3', 'alienware m17 r4', 'alienware m17x', 'alienware m17xr3', 'alienware m17xr4', 'alienware m18x', 'alienware m18xr2', 'alienware notebooks', 'alienware x15 r1', 'alienware x17 r1', 'alienware x51', 'aprilia aio', 'asm100', 'asm100r2', 'axion fs', 'axion mdt', 'axion sdt', 'alien dt', 'alien nb', 'black bullet lt', 'black bullet mt', 'black bullet st', 'bullet mt', 'bullet mt e', 'bullet st', 'caspian aio', 'cayenne', 'cayenne ii mg/sl', 'cheng ming 3967', 'cheng ming 3968', 'cheng ming 3977', 'chenglong', 'chengming 3980 tower', 'chengming 3988', 'chengming 3990', 'chengming 3991', 'cypher sf', 'davinci', 'davinci mg', 'davinci mg/blue', 'deimos', 'dell 4', 'dell 4 xps', 'dell ec280', 'dell g15 5510', 'dell g15 5511', 'dell g15 5515 amd edition', 'dell g17 5710', 'dell g3 3500', 'dell g3 3579', 'dell g3 3590', 'dell g3 3779', 'dell g5 5500', 'dell g5 5587', 'dell g5 5590', 'dell g5 dt', 'dell g5 se 5505', 'dell g7 7500', 'dell g7 7588', 'dell g7 7590', 'dell g7 7700', 'dell g7 7790', 'dell g7 dt', 'dell mini 3', 'dell mini 5', 'dim davinci', 'dim-ramjet', 'dimension', 'dimension 100', 'dimension 1000', 'dimension 1100/b110', 'dimension 1200/b220', 'dimension 1760', 'dimension 2000', 'dimension 2010', 'dimension 2100', 'dimension 2200', 'dimension 2300', 'dimension 2300c', 'dimension 2350', 'dimension 2400', 'dimension 2400c', 'dimension 3000', 'dimension 3100/e310', 'dimension 350d', 'dimension 4200', 'dimension 4300', 'dimension 4400', 'dimension 4500', 'dimension 4500s', 'dimension 450d', 'dimension 4550', 'dimension 4590t', 'dimension 4600', 'dimension 4600c', 'dimension 4700', 'dimension 4700c', 'dimension 4750', 'dimension 5100', 'dimension 5100c', 'dimension 5150c/xps 200', 'dimension 5200/e520', 'dimension 6000', 'dimension 8100', 'dimension 8200', 'dimension 8250', 'dimension 8300', 'dimension 8400', 'dimension 900', 'dimension 9100', 'dimension 9200/xps 410', 'dimension 9200c/xps 210', 'dimension c', 'dimension c521', 'dimension e521', 'dimension g401d', 'dimension g402d', 'dimension l', 'dimension smart pc', 'dimension smart pc 200', 'dimension smartpc 300d', 'dimension smartpc 400d', 'dimension t401d', 'dimension xps', 'dimension xps z', 'dozer', 'druid', 'foxglove', 'gator', 'geneva', 'hand helds', 'handheld', 'hhelds/mp3', 'hu mitx', 'inspiron 1000', 'inspiron 1000 poc', 'inspiron 11', 'inspiron 11-3162', 'inspiron 11-3163', 'inspiron 11-3164', 'inspiron 1100', 'inspiron 1120', 'inspiron 1121', 'inspiron 1122', 'inspiron 1150', 'inspiron 1200', 'inspiron 1210', 'inspiron 1300/b130', 'inspiron 1318', 'inspiron 1320', 'inspiron 1370', 'inspiron 14-3451', 'inspiron 14-3452', 'inspiron 14-3458', 'inspiron 14-3459', 'inspiron 14-3462', 'inspiron 14-3465', 'inspiron 14-3467', 'inspiron 14-3468', 'inspiron 14-3473', 'inspiron 14-3476', 'inspiron 14-5439', 'inspiron 14-5451', 'inspiron 14-5452', 'inspiron 14-5455', 'inspiron 14-5458', 'inspiron 14-5459', 'inspiron 14-5468', 'inspiron 1410', 'inspiron 1420', 'inspiron 1425', 'inspiron 1427', 'inspiron 1428', 'inspiron 1440', 'inspiron 1464', 'inspiron 1470', 'inspiron 15-3551', 'inspiron 15-3552', 'inspiron 15-3555', 'inspiron 15-3558', 'inspiron 15-3559', 'inspiron 15-3565', 'inspiron 15-3567', 'inspiron 15-3568', 'inspiron 15-3573', 'inspiron 15-3576', 'inspiron 15-5000', 'inspiron 15-5551', 'inspiron 15-5552', 'inspiron 15-5555', 'inspiron 15-5558', 'inspiron 15-5559', 'inspiron 15-5565', 'inspiron 15-5566', 'inspiron 15-5567', 'inspiron 1501', 'inspiron 1518', 'inspiron 1519', 'inspiron 1520', 'inspiron 1521', 'inspiron 1525', 'inspiron 1525se', 'inspiron 1526', 'inspiron 1545', 'inspiron 1546', 'inspiron 1564', 'inspiron 1570', 'inspiron 15z', 'inspiron 17-5755', 'inspiron 17-5758', 'inspiron 17-5759', 'inspiron 17-5765', 'inspiron 17-5767', 'inspiron 1720', 'inspiron 1721', 'inspiron 1750', 'inspiron 1764', 'inspiron 20-3052', 'inspiron 20-3059', 'inspiron 20-3060', 'inspiron 20-3064', 'inspiron 2000', 'inspiron 22-3261', 'inspiron 22-3263', 'inspiron 22-3264', 'inspiron 22-3265', 'inspiron 22-3275', 'inspiron 22-3277', 'inspiron 22-3280', 'inspiron 2200', 'inspiron 2330', 'inspiron 2340', 'inspiron 2350', 'inspiron 24-3452', 'inspiron 24-3455', 'inspiron 24-3459', 'inspiron 24-3460', 'inspiron 24-3464', 'inspiron 24-3475', 'inspiron 24-3477', 'inspiron 24-3480', 'inspiron 24-5459', 'inspiron 24-5475', 'inspiron 24-5477', 'inspiron 24-5488', 'inspiron 24-7459', 'inspiron 2500', 'inspiron 2600', 'inspiron 2650', 'inspiron 27-7775', 'inspiron 27-7777', 'inspiron 300', 'inspiron 3000', 'inspiron 300m', 'inspiron 3043', 'inspiron 3045', 'inspiron 3048', 'inspiron 3050', 'inspiron 3135', 'inspiron 3137', 'inspiron 3138', 'inspiron 3147', 'inspiron 3148', 'inspiron 3152', 'inspiron 3153', 'inspiron 3157', 'inspiron 3158', 'inspiron 3167', 'inspiron 3168', 'inspiron 3169', 'inspiron 3179', 'inspiron 3180', 'inspiron 3185', 'inspiron 3195 2n1', 'inspiron 3250', 'inspiron 3252', 'inspiron 3268', 'inspiron 3290', 'inspiron 3380', 'inspiron 3380 2n1', 'inspiron 3385', 'inspiron 3385 2n1', 'inspiron 3420', 'inspiron 3421', 'inspiron 3437', 'inspiron 3441', 'inspiron 3442', 'inspiron 3443', 'inspiron 3470', 'inspiron 3471', 'inspiron 3472', 'inspiron 3480', 'inspiron 3481', 'inspiron 3482', 'inspiron 3490', 'inspiron 3493', 'inspiron 3500', 'inspiron 3501', 'inspiron 3502', 'inspiron 3503', 'inspiron 3504', 'inspiron 3505', 'inspiron 3506', 'inspiron 3508', 'inspiron 3510', 'inspiron 3511', 'inspiron 3515', 'inspiron 3520', 'inspiron 3521', 'inspiron 3531', 'inspiron 3537', 'inspiron 3541', 'inspiron 3542', 'inspiron 3543', 'inspiron 3580', 'inspiron 3581', 'inspiron 3582', 'inspiron 3583', 'inspiron 3584', 'inspiron 3585', 'inspiron 3590', 'inspiron 3593', 'inspiron 3595', 'inspiron 3646', 'inspiron 3647', 'inspiron 3650', 'inspiron 3655', 'inspiron 3656', 'inspiron 3662', 'inspiron 3668', 'inspiron 3670', 'inspiron 3671', 'inspiron 3700', 'inspiron 3721', 'inspiron 3737', 'inspiron 3780', 'inspiron 3781', 'inspiron 3782', 'inspiron 3785', 'inspiron 3790', 'inspiron 3793', 'inspiron 3800', 'inspiron 3847', 'inspiron 3880', 'inspiron 3881', 'inspiron 3891', 'inspiron 3910', 'inspiron 400', 'inspiron 4000', 'inspiron 4100', 'inspiron 4150', 'inspiron 5000', 'inspiron 500m', 'inspiron 5100', 'inspiron 510m', 'inspiron 5150', 'inspiron 5160', 'inspiron 5300', 'inspiron 5301', 'inspiron 5310', 'inspiron 5323', 'inspiron 5348', 'inspiron 535', 'inspiron 535s', 'inspiron 5368', 'inspiron 537', 'inspiron 5370', 'inspiron 5378', 'inspiron 5379', 'inspiron 537s', 'inspiron 5390', 'inspiron 5391', 'inspiron 5400 2n1', 'inspiron 5400 aio', 'inspiron 5401', 'inspiron 5401 aio', 'inspiron 5402', 'inspiron 5405', 'inspiron 5406 2n1', 'inspiron 5408', 'inspiron 5409', 'inspiron 5410', 'inspiron 5410 2-in-1', 'inspiron 5415', 'inspiron 5418', 'inspiron 5420', 'inspiron 5421', 'inspiron 5423', 'inspiron 5425', 'inspiron 5435', 'inspiron 5437', 'inspiron 5442', 'inspiron 5443', 'inspiron 5445', 'inspiron 5447', 'inspiron 5448', 'inspiron 545', 'inspiron 5457', 'inspiron 545s', 'inspiron 546', 'inspiron 546s', 'inspiron 5480', 'inspiron 5481', 'inspiron 5482', 'inspiron 5485', 'inspiron 5485 2n1', 'inspiron 5488', 'inspiron 5490', 'inspiron 5490 2n1', 'inspiron 5490 aio', 'inspiron 5491 2n1', 'inspiron 5491 aio', 'inspiron 5493', 'inspiron 5494', 'inspiron 5498', 'inspiron 5501', 'inspiron 5502', 'inspiron 5505', 'inspiron 5508', 'inspiron 5509', 'inspiron 5510', 'inspiron 5515', 'inspiron 5518', 'inspiron 5520', 'inspiron 5521', 'inspiron 5525', 'inspiron 5535', 'inspiron 5537', 'inspiron 5542', 'inspiron 5543', 'inspiron 5545', 'inspiron 5547', 'inspiron 5548', 'inspiron 5557', 'inspiron 5568', 'inspiron 5570', 'inspiron 5575', 'inspiron 5576', 'inspiron 5577', 'inspiron 5578', 'inspiron 5579', 'inspiron 5580', 'inspiron 5582', 'inspiron 5583', 'inspiron 5584', 'inspiron 5585', 'inspiron 5590', 'inspiron 5591 2n1', 'inspiron 5593', 'inspiron 5594', 'inspiron 5598', 'inspiron 560', 'inspiron 560s', 'inspiron 5675', 'inspiron 5676', 'inspiron 5680', 'inspiron 570', 'inspiron 5720', 'inspiron 5721', 'inspiron 5735', 'inspiron 5737', 'inspiron 5748', 'inspiron 5749', 'inspiron 5770', 'inspiron 5775', 'inspiron 580', 'inspiron 580s', 'inspiron 6000', 'inspiron 600m', 'inspiron 620', 'inspiron 620s', 'inspiron 630m/xps m140', 'inspiron 6400/e1505', 'inspiron 640m/e1405', 'inspiron 660', 'inspiron 660s', 'inspiron 7000', 'inspiron 700m', 'inspiron 710m', 'inspiron 7300', 'inspiron 7300 2n1', 'inspiron 7306 2n1', 'inspiron 7347', 'inspiron 7348', 'inspiron 7352', 'inspiron 7353', 'inspiron 7359', 'inspiron 7368', 'inspiron 7370', 'inspiron 7373', 'inspiron 7375', 'inspiron 7378', 'inspiron 7380', 'inspiron 7386', 'inspiron 7390 2n1', 'inspiron 7391', 'inspiron 7391 2n1', 'inspiron 7400', 'inspiron 7405 2n1', 'inspiron 7415 2-in-1', 'inspiron 7420', 'inspiron 7437', 'inspiron 7447', 'inspiron 7448', 'inspiron 7460', 'inspiron 7466', 'inspiron 7467', 'inspiron 7472', 'inspiron 7490', 'inspiron 7500', 'inspiron 7500 2n1', 'inspiron 7500 eol', 'inspiron 7501', 'inspiron 7506 2n1', 'inspiron 7510', 'inspiron 7520', 'inspiron 7537', 'inspiron 7547', 'inspiron 7548', 'inspiron 7557', 'inspiron 7558', 'inspiron 7559', 'inspiron 7560', 'inspiron 7566', 'inspiron 7567', 'inspiron 7568', 'inspiron 7569', 'inspiron 7570', 'inspiron 7572', 'inspiron 7573', 'inspiron 7577', 'inspiron 7579', 'inspiron 7580', 'inspiron 7586', 'inspiron 7590', 'inspiron 7590 2n1', 'inspiron 7591', 'inspiron 7591 2n1', 'inspiron 7610', 'inspiron 7700 aio', 'inspiron 7706 2n1', 'inspiron 7720', 'inspiron 7737', 'inspiron 7746', 'inspiron 7773', 'inspiron 7778', 'inspiron 7779', 'inspiron 7786', 'inspiron 7790 aio', 'inspiron 7791 2n1', 'inspiron 8000', 'inspiron 8100', 'inspiron 8200', 'inspiron 8500', 'inspiron 8600', 'inspiron 910', 'inspiron 9100', 'inspiron 9200', 'inspiron 9300', 'inspiron 9400/e1705', 'inspiron b120', 'inspiron d518', 'inspiron d519', 'inspiron d530', 'inspiron d530s', 'inspiron d531', 'inspiron d531s', 'inspiron desktops', 'inspiron duo 11', 'inspiron m301z', 'inspiron m4010', 'inspiron m4040', 'inspiron m4110', 'inspiron m5010', 'inspiron m5030', 'inspiron m5040', 'inspiron m5110', 'inspiron milkha', 'inspiron mini 10', 'inspiron mini 1012', 'inspiron mini 1017', 'inspiron mini 1018', 'inspiron mini 1090', 'inspiron n3010', 'inspiron n301z', 'inspiron n4010', 'inspiron n4020', 'inspiron n4030', 'inspiron n4050', 'inspiron n4110', 'inspiron n4120', 'inspiron n5010', 'inspiron n5020', 'inspiron n5030', 'inspiron n5040', 'inspiron n5050', 'inspiron n5110', 'inspiron n7010', 'inspiron n7110', 'inspiron notebooks', 'inspiron one 19', 'inspiron one 2020', 'inspiron one 2205', 'inspiron one 2305', 'inspiron one 2310', 'inspiron one 2320', 'inspiron smartstep 100n', 'inspiron smartstep 250n', 'inspiron x200', 'inspiron xps', 'inspiron xps 2', 'inspiron zino hd', 'inspiron zip', 'inspironz n311z', 'inspironz n411z', 'inspiron dt', 'inspiron ntb', 'jaguar', 'jazz - dimension', 'jazz sdt', 'jazz-dimension usb 2.0', 'jet li mt', 'jet li st', 'killerbee', 'klinger', 'klinger m', 'klinger mt', 'man l', 'man m', 'mdt oryx', 'metroplex mt', 'metroplex mt 650w', 'mini', 'mini 10 - 1019', 'mini tower', 'minitower', 'mitac 212', 'mitac mg mini tower', 'mitac mini tower', 'mntw', 'mobile electronics', 'mp-3 players', 'mp3 player', 'mt', 'mt chassis', 'neo mt', 'no chassis', 'noble', 'none', 'notebook', 'oryx mt', 'oryx t', 'p chassis', 'paraty', 'pda', 'phobos', 're-tied epp peripherals', 'rios', 'saffron', 'sakura', 'sff', 'skydive ut', 'slim', 'smith msmt', 'smith mt', 'stonecutter mt', 'stonecutter st', 'stonecutter tower', 'streak', 'streak 7', 'streak pro', 'studio 1435', 'studio 1436', 'studio 1440', 'studio 1450', 'studio 1457', 'studio 1458', 'studio 1535', 'studio 1536', 'studio 1537', 'studio 1555', 'studio 1557', 'studio 1558', 'studio 1569', 'studio 1735', 'studio 1736', 'studio 1737', 'studio 1745', 'studio 1747', 'studio 1749', 'studio 7100', 'studio d540', 'studio d540s', 'studio d541', 'studio hybrid d140g', 'studio one 19', 'studio xps 1645', 'studio xps 1647', 'studio xps 425', 'studio xps 435mt', 'studio xps 435t/9000', 'studio xps 8000', 'studio xps 8100', 'studio xps 9100', 'studio xps m1340', 'studio xps m1640', 'superior mt', 'tai lake', 'tank up', 'thun aio', 'travis aio', 'usff3.5l', 'usff8', 'v230mt', 'v230st', 'venue touch 4300', 'vostro 100', 'vostro 1010', 'vostro 1011', 'vostro 1014', 'vostro 1015', 'vostro 1088', 'vostro 1200', 'vostro 1220', 'vostro 1310', 'vostro 1320', 'vostro 14 3458', 'vostro 14 3459', 'vostro 14 5415', 'vostro 14+ 1400', 'vostro 14-3445', 'vostro 14-3446', 'vostro 14-3449', 'vostro 14-3468', 'vostro 14-3478', 'vostro 14-5459', 'vostro 14-5468', 'vostro 1440', 'vostro 1450', 'vostro 15 1000', 'vostro 15 3558', 'vostro 15 3559', 'vostro 15 3561', 'vostro 15 3565', 'vostro 15 5515', 'vostro 15+ 1500', 'vostro 15-3562', 'vostro 15-3566', 'vostro 15-3568', 'vostro 15-3572', 'vostro 15-3578', 'vostro 15-5568', 'vostro 1510', 'vostro 1511', 'vostro 1520', 'vostro 1540', 'vostro 1550', 'vostro 17+ 1700', 'vostro 1710', 'vostro 1720', 'vostro 20 3015', 'vostro 20 3052', 'vostro 20 3055', 'vostro 20 3062', 'vostro 200', 'vostro 201', 'vostro 220', 'vostro 220s', 'vostro 23 3340', 'vostro 230', 'vostro 24 5450', 'vostro 24 5460', 'vostro 2420', 'vostro 2421', 'vostro 2510', 'vostro 2520', 'vostro 2521', 'vostro 260', 'vostro 260g', 'vostro 270', 'vostro 270g', 'vostro 270s', 'vostro 3010', 'vostro 3070', 'vostro 320', 'vostro 3250', 'vostro 3252', 'vostro 3262', 'vostro 3267', 'vostro 3268', 'vostro 330', 'vostro 3300', 'vostro 3350', 'vostro 3360', 'vostro 3400', 'vostro 3401', 'vostro 3405', 'vostro 3450', 'vostro 3455', 'vostro 3460', 'vostro 3470', 'vostro 3471', 'vostro 3480', 'vostro 3481', 'vostro 3490', 'vostro 3491', 'vostro 3500', 'vostro 3501', 'vostro 3511', 'vostro 3515', 'vostro 3546', 'vostro 3549', 'vostro 3550', 'vostro 3555', 'vostro 3560', 'vostro 3565', 'vostro 3580', 'vostro 3581', 'vostro 3582', 'vostro 3583', 'vostro 3584', 'vostro 3590', 'vostro 3591', 'vostro 360', 'vostro 3650', 'vostro 3653', 'vostro 3660', 'vostro 3667', 'vostro 3668', 'vostro 3669', 'vostro 3670', 'vostro 3671', 'vostro 3681', 'vostro 3690', 'vostro 3700', 'vostro 3710', 'vostro 3750', 'vostro 3760', 'vostro 3800', 'vostro 3881', 'vostro 3888', 'vostro 3890', 'vostro 3900', 'vostro 3900g', 'vostro 3901', 'vostro 3902', 'vostro 3905', 'vostro 3910', 'vostro 410', 'vostro 420', 'vostro 430', 'vostro 460', 'vostro 470', 'vostro 500', 'vostro 5090', 'vostro 5300', 'vostro 5301', 'vostro 5310', 'vostro 5370', 'vostro 5390', 'vostro 5391', 'vostro 5401', 'vostro 5402', 'vostro 5410', 'vostro 5460', 'vostro 5470', 'vostro 5471', 'vostro 5480', 'vostro 5481', 'vostro 5490', 'vostro 5494', 'vostro 5501', 'vostro 5502', 'vostro 5510', 'vostro 5560', 'vostro 5581', 'vostro 5590', 'vostro 5594', 'vostro 5880', 'vostro 5890', 'vostro 7500', 'vostro 7510', 'vostro 7570', 'vostro 7580', 'vostro 7590', 'vostro a100', 'vostro a180', 'vostro a840', 'vostro a860', 'vostro a90', 'vostro desktops', 'vostro notebooks', 'vostro v13', 'vostro v130', 'vostro v131', 'vostro+ 400', 'vos dt', 'vos nb', 'web products', 'webster cd', 'webster dvd', 'west lake', 'wildman l', 'winchester-mt', 'xps  13 9343', 'xps 11', 'xps 13 2-in-1 9310 2n1', 'xps 13 7390', 'xps 13 7390 2n1', 'xps 13 9300', 'xps 13 9305', 'xps 13 9310', 'xps 13 9360', 'xps 13 9365', 'xps 13 9370', 'xps 13 9380', 'xps 15', 'xps 15 2in1 9575', 'xps 15 7590', 'xps 15 9500', 'xps 15 9510', 'xps 15 9560', 'xps 15 9570', 'xps 15z', 'xps 17 9700', 'xps 17 9710', 'xps 1810', 'xps 1820', 'xps 27 aio', 'xps 2730', 'xps 430', 'xps 625', 'xps 630i', 'xps 700', 'xps 710', 'xps 720', 'xps 730', 'xps 730x', 'xps 8200', 'xps 8300', 'xps 8500', 'xps 8700', 'xps 8900', 'xps 8910', 'xps 8920', 'xps 8930', 'xps 8940', 'xps 8950', 'xps 9250', 'xps 9350', 'xps 9530', 'xps 9550', 'xps desktops', 'xps dt', 'xps duo 12', 'xps l401x', 'xps l501x', 'xps l502x', 'xps l701x', 'xps l702x', 'xps m1210', 'xps m1330', 'xps m1330 (product) red', 'xps m1530', 'xps m1530 (product) red', 'xps m170', 'xps m1710', 'xps m1730', 'xps m2010', 'xps mt', 'xps nb', 'xps notebooks', 'xps one', 'xps one (product) red', 'xps one 27', 'xps one 2710', 'xps studio 420', 'xps studio 7100', 'xps13', 'xps14', 'xps14z', 'xps15']\n"
     ]
    }
   ],
   "source": [
    "#transforma a tabela data em uma lista com itens em upper case, entre aspas simples separdos por vírgula\n",
    "array_produtc = data.values.tolist()\n",
    "result_final = []  \n",
    "for i in range(len(array_produtc)):\n",
    "    array_clear = array_produtc[i][0].split(\";\")\n",
    "    aray_clear = array_clear[1:len(array_clear)]\n",
    "    for element in aray_clear:\n",
    "        result_final.append(element)\n",
    "        \n",
    "#exibe a lista criada anteriormente \n",
    "#print(result_final)\n",
    "\n",
    "\n",
    "#função para remover itnes repetidos da lista criada anteriormente\n",
    "def remove_repetidos(lista):\n",
    "    lista_unicos = []\n",
    "    for numero in lista:\n",
    "        if(numero in lista_unicos): #Verifica se o atual elemento existe na lista original\n",
    "            pass #Se existir não faz nada\n",
    "        else:\n",
    "            lista_unicos.append(numero) #Se não existir, adiciona com o comando append() o numero na lista\n",
    "    return lista_unicos\n",
    "#Exibe a quantidade de itens na lista de busca, com itens duplicados\n",
    "print(len(result_final))\n",
    "\n",
    "# Ordena a lista\n",
    "result_final = sorted(remove_repetidos(result_final))\n",
    "\n",
    "#Exibe a quantidade de itens na lista de busca, após retirar itens duplicados\n",
    "print(len(result_final))\n",
    "\n",
    "#transforma os itens da lista em minúsculos\n",
    "result_final=[x.lower() for x in result_final]\n",
    "print(result_final)\n"
   ]
  },
  {
   "cell_type": "code",
   "execution_count": 51,
   "id": "happy-defeat",
   "metadata": {},
   "outputs": [],
   "source": [
    "#função que compara as palavras da frase de entrada com as palavras da lista gerada a partir do arquivo CSV\n",
    "\n",
    "def word_text_sub(texto):\n",
    "        \n",
    "    text = texto\n",
    "    for pattern in result_final:\n",
    "        #print( 'Looking for \"%s\" in \"%s\" ->' % (text, pattern), end= '')\n",
    "        if re.search(text, pattern):\n",
    "            return 'produto'\n",
    "    \n",
    "\n",
    "#função que separa o texto de input em palavras de busca\n",
    "def split_phrase(texto):\n",
    "    #criando um objeto regex para separar as palavras de uma frase em dois grupos, \n",
    "    # as palavras ficam dentro do segundo grupo acessado através do do match.group(2) dentro do for\n",
    "    regex = re.compile('\\[(.*?)\\]|(\\S+)')\n",
    "    #aplicando a regex no texto e separando as palavras\n",
    "    matches = regex.finditer(texto)\n",
    "    print('INPUT:'+texto)\n",
    "    \n",
    "    for pattern in result_final:\n",
    "        for match in matches:\n",
    "            #print(match)\n",
    "            if(word_text_sub(match.group(2))):\n",
    "                #print(match.group(2))\n",
    "                return_text=re.sub(match.group(2),'product',texto)\n",
    "                return return_text\n",
    "                \n",
    "           \n",
    "    "
   ]
  },
  {
   "cell_type": "code",
   "execution_count": 53,
   "id": "miniature-inflation",
   "metadata": {},
   "outputs": [
    {
     "name": "stdout",
     "output_type": "stream",
     "text": [
      "INPUT:quero comprar um alienware\n"
     ]
    },
    {
     "data": {
      "text/plain": [
       "'quero comprar um produto'"
      ]
     },
     "execution_count": 53,
     "metadata": {},
     "output_type": "execute_result"
    }
   ],
   "source": [
    "split_phrase(\"quero comprar um alienware\")\n",
    "#word_text_sub(\"alienware\")"
   ]
  },
  {
   "cell_type": "code",
   "execution_count": null,
   "id": "cardiovascular-future",
   "metadata": {},
   "outputs": [],
   "source": []
  },
  {
   "cell_type": "code",
   "execution_count": null,
   "id": "limited-exhibit",
   "metadata": {},
   "outputs": [],
   "source": []
  }
 ],
 "metadata": {
  "kernelspec": {
   "display_name": "Python 3",
   "language": "python",
   "name": "python3"
  },
  "language_info": {
   "codemirror_mode": {
    "name": "ipython",
    "version": 3
   },
   "file_extension": ".py",
   "mimetype": "text/x-python",
   "name": "python",
   "nbconvert_exporter": "python",
   "pygments_lexer": "ipython3",
   "version": "3.8.5"
  }
 },
 "nbformat": 4,
 "nbformat_minor": 5
}
